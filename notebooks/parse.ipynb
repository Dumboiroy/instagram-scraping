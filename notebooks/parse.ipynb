{
 "cells": [
  {
   "cell_type": "code",
   "execution_count": 3,
   "metadata": {},
   "outputs": [],
   "source": [
    "comments_file = \"../data/comments.txt\""
   ]
  },
  {
   "cell_type": "code",
   "execution_count": 26,
   "metadata": {},
   "outputs": [
    {
     "name": "stdout",
     "output_type": "stream",
     "text": [
      "Read comments from file.\n",
      "Comments: ['chxryll_\\n', ' 8h\\n', '@ljm.jpg @audrie.desu @jam.ie_ 👀👀\\n', 'Reply\\n', 'chxryll_\\n', ' 8h\\n', '@ljm.jpg @audrie.desu @jam.ie_ 👀👀\\n', '\\n', 'aa.udreyt_\\n', ' 5h\\n', '@ji4xin_ @varelynnn.wq @melly_beanzzz\\n', 'Reply\\n', 'View all 1 replies\\n', 'aa.udreyt_\\n', ' 5h\\n', '@ji4xin_ @varelynnn.wq @melly_beanzzz\\n', '\\n', 'View all 1 replies\\n', 'zinarita1\\n', ' 5h\\n', '@coralcarol_coleslaw @ccaandicceee @sora.lovingyoga hope to win! ❤️\\n', 'Reply\\n', 'zinarita1\\n', ' 5h\\n', '@coralcarol_coleslaw @ccaandicceee @sora.lovingyoga hope to win! ❤️\\n', '\\n', 'peachyisbitchy\\n', ' 4h\\n', '@sxtyen @ewvanz @haydontbemin\\n', 'Reply\\n', 'peachyisbitchy\\n', ' 4h\\n', '@sxtyen @ewvanz @haydontbemin\\n', '\\n', 'meereedeethe\\n', ' 10h\\n', '@xinhuiiii @amychoon @cthhhhhh\\n', 'Reply\\n', 'meereedeethe\\n', ' 10h\\n', '@xinhuiiii @amychoon @cthhhhhh\\n', '\\n', 'eggsoupverynice\\n', ' 6h\\n', '@huejxy @puffymochiii @hxmilktea\\n', 'Reply\\n', 'eggsoupverynice\\n', ' 6h\\n', '@huejxy @puffymochiii @hxmilktea\\n', '\\n', 'shea.adn\\n', ' 9h\\n', '@ssf40e @nrezzatee @n.iiraa 🍒\\n', 'Reply\\n', 'shea.adn\\n', ' 9h\\n', '@ssf40e @nrezzatee @n.iiraa 🍒\\n', '\\n', 'charmainecps_\\n', ' 7h\\n', '@_crystallarhs_ @bysharice @fonggkayy\\n', 'Reply\\n', 'charmainecps_\\n', ' 7h\\n', '@_crystallarhs_ @bysharice @fonggkayy']\n",
      "Number of comments: 65\n"
     ]
    }
   ],
   "source": [
    "with open(comments_file, \"r\", encoding=\"utf-8\") as f:\n",
    "    comments = f.readlines()\n",
    "    print(\"Read comments from file.\")\n",
    "    print(\"Comments:\", comments)\n",
    "    print(\"Number of comments:\", len(comments))"
   ]
  },
  {
   "cell_type": "code",
   "execution_count": 27,
   "metadata": {},
   "outputs": [
    {
     "name": "stdout",
     "output_type": "stream",
     "text": [
      "Skipping comment: View all 1 replies\n",
      "\n",
      "Skipping comment: View all 1 replies\n",
      "\n"
     ]
    }
   ],
   "source": [
    "comments_1 = []\n",
    "for comment in comments:\n",
    "    if comment.startswith(\"View all \"):\n",
    "        print(\"Skipping comment:\", comment)\n",
    "        continue\n",
    "    comments_1.append(comment)"
   ]
  },
  {
   "cell_type": "code",
   "execution_count": 28,
   "metadata": {},
   "outputs": [],
   "source": [
    "skipcount = 0\n",
    "comments_2 = []\n",
    "\n",
    "for comment in comments_1:\n",
    "    if skipcount > 0:\n",
    "        skipcount -= 1\n",
    "        continue\n",
    "    else:\n",
    "        if comment.startswith(\"Reply\\n\"):\n",
    "            skipcount = 4\n",
    "            continue\n",
    "        else:\n",
    "            comments_2.append(comment)\n",
    "        "
   ]
  },
  {
   "cell_type": "code",
   "execution_count": 29,
   "metadata": {},
   "outputs": [
    {
     "data": {
      "text/plain": [
       "['chxryll_\\n',\n",
       " ' 8h\\n',\n",
       " '@ljm.jpg @audrie.desu @jam.ie_ 👀👀\\n',\n",
       " 'aa.udreyt_\\n',\n",
       " ' 5h\\n',\n",
       " '@ji4xin_ @varelynnn.wq @melly_beanzzz\\n',\n",
       " 'zinarita1\\n',\n",
       " ' 5h\\n',\n",
       " '@coralcarol_coleslaw @ccaandicceee @sora.lovingyoga hope to win! ❤️\\n',\n",
       " 'peachyisbitchy\\n',\n",
       " ' 4h\\n',\n",
       " '@sxtyen @ewvanz @haydontbemin\\n',\n",
       " 'meereedeethe\\n',\n",
       " ' 10h\\n',\n",
       " '@xinhuiiii @amychoon @cthhhhhh\\n',\n",
       " 'eggsoupverynice\\n',\n",
       " ' 6h\\n',\n",
       " '@huejxy @puffymochiii @hxmilktea\\n',\n",
       " 'shea.adn\\n',\n",
       " ' 9h\\n',\n",
       " '@ssf40e @nrezzatee @n.iiraa 🍒\\n',\n",
       " 'charmainecps_\\n',\n",
       " ' 7h\\n',\n",
       " '@_crystallarhs_ @bysharice @fonggkayy\\n']"
      ]
     },
     "execution_count": 29,
     "metadata": {},
     "output_type": "execute_result"
    }
   ],
   "source": [
    "comments_2"
   ]
  },
  {
   "cell_type": "code",
   "execution_count": 30,
   "metadata": {},
   "outputs": [
    {
     "data": {
      "text/plain": [
       "24"
      ]
     },
     "execution_count": 30,
     "metadata": {},
     "output_type": "execute_result"
    }
   ],
   "source": [
    "len(comments_2)"
   ]
  },
  {
   "cell_type": "code",
   "execution_count": 33,
   "metadata": {},
   "outputs": [],
   "source": [
    "# join 3 lines into 1\n",
    "comments_3 = []\n",
    "for i in range(0, len(comments_2), 3):\n",
    "    comments_3.append(comments_2[i] + comments_2[i+1] + comments_2[i+2])"
   ]
  },
  {
   "cell_type": "code",
   "execution_count": 36,
   "metadata": {},
   "outputs": [],
   "source": [
    "comments_4 = []\n",
    "for comment in comments_3:\n",
    "    # replace newline characters with | character\n",
    "    comment = comment.replace(\"\\n\", \"|\")\n",
    "    comments_4.append(comment)"
   ]
  },
  {
   "cell_type": "code",
   "execution_count": 37,
   "metadata": {},
   "outputs": [
    {
     "data": {
      "text/plain": [
       "['chxryll_| 8h|@ljm.jpg @audrie.desu @jam.ie_ 👀👀|',\n",
       " 'aa.udreyt_| 5h|@ji4xin_ @varelynnn.wq @melly_beanzzz|',\n",
       " 'zinarita1| 5h|@coralcarol_coleslaw @ccaandicceee @sora.lovingyoga hope to win! ❤️|',\n",
       " 'peachyisbitchy| 4h|@sxtyen @ewvanz @haydontbemin|',\n",
       " 'meereedeethe| 10h|@xinhuiiii @amychoon @cthhhhhh|',\n",
       " 'eggsoupverynice| 6h|@huejxy @puffymochiii @hxmilktea|',\n",
       " 'shea.adn| 9h|@ssf40e @nrezzatee @n.iiraa 🍒|',\n",
       " 'charmainecps_| 7h|@_crystallarhs_ @bysharice @fonggkayy|']"
      ]
     },
     "execution_count": 37,
     "metadata": {},
     "output_type": "execute_result"
    }
   ],
   "source": [
    "comments_4"
   ]
  },
  {
   "cell_type": "code",
   "execution_count": 39,
   "metadata": {},
   "outputs": [],
   "source": [
    "# write comments to file\n",
    "comments_file = \"../data/comments_cleaned.txt\"\n",
    "with open(comments_file, \"w\", encoding=\"utf-8\") as f:\n",
    "    for comment in comments_4:\n",
    "        f.write(comment + \"\\n\")"
   ]
  },
  {
   "cell_type": "code",
   "execution_count": null,
   "metadata": {},
   "outputs": [],
   "source": []
  }
 ],
 "metadata": {
  "kernelspec": {
   "display_name": ".venv",
   "language": "python",
   "name": "python3"
  },
  "language_info": {
   "codemirror_mode": {
    "name": "ipython",
    "version": 3
   },
   "file_extension": ".py",
   "mimetype": "text/x-python",
   "name": "python",
   "nbconvert_exporter": "python",
   "pygments_lexer": "ipython3",
   "version": "3.12.4"
  }
 },
 "nbformat": 4,
 "nbformat_minor": 2
}
